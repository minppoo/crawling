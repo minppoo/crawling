{
  "nbformat": 4,
  "nbformat_minor": 0,
  "metadata": {
    "colab": {
      "name": "Crawling.ipynb",
      "provenance": [],
      "include_colab_link": true
    },
    "kernelspec": {
      "name": "python3",
      "display_name": "Python 3"
    },
    "language_info": {
      "name": "python"
    }
  },
  "cells": [
    {
      "cell_type": "markdown",
      "metadata": {
        "id": "view-in-github",
        "colab_type": "text"
      },
      "source": [
        "<a href=\"https://colab.research.google.com/github/minppoo/crawling/blob/main/Crawling.ipynb\" target=\"_parent\"><img src=\"https://colab.research.google.com/assets/colab-badge.svg\" alt=\"Open In Colab\"/></a>"
      ]
    },
    {
      "cell_type": "code",
      "execution_count": null,
      "metadata": {
        "id": "QFxndOer3Q_I"
      },
      "outputs": [],
      "source": [
        "# pip install requests\n",
        "import requests  # 웹 연결 라이브러리"
      ]
    },
    {
      "cell_type": "code",
      "source": [
        "from bs4 import BeautifulSoup as bs  # 데이터를 분석하기 쉽게 정제 라이브러리"
      ],
      "metadata": {
        "id": "iMOKq4Po5T-t"
      },
      "execution_count": null,
      "outputs": []
    },
    {
      "cell_type": "code",
      "source": [
        "import pandas  # 데이터 분석 라이브러리 "
      ],
      "metadata": {
        "id": "xdN_XmdB5dVq"
      },
      "execution_count": null,
      "outputs": []
    },
    {
      "cell_type": "code",
      "source": [
        "url = \"https://music.bugs.co.kr/chart\"\n",
        "html = requests.get(url)\n",
        "#html.text"
      ],
      "metadata": {
        "id": "7mluIHqk6fUo"
      },
      "execution_count": null,
      "outputs": []
    },
    {
      "cell_type": "code",
      "source": [
        "soup = bs(html.text, 'html.parser')\n"
      ],
      "metadata": {
        "id": "1PvVYyCP7gHh"
      },
      "execution_count": null,
      "outputs": []
    },
    {
      "cell_type": "code",
      "source": [
        "len(soup.select('tr'))"
      ],
      "metadata": {
        "colab": {
          "base_uri": "https://localhost:8080/"
        },
        "id": "nhpEFHkA9Bqw",
        "outputId": "bbfc2cbb-43c8-4068-9a24-732da41a47a9"
      },
      "execution_count": null,
      "outputs": [
        {
          "output_type": "execute_result",
          "data": {
            "text/plain": [
              "104"
            ]
          },
          "metadata": {},
          "execution_count": 10
        }
      ]
    },
    {
      "cell_type": "code",
      "source": [
        "songs = soup.select('table.byChart > tbody > tr')"
      ],
      "metadata": {
        "id": "JI3V9M_x9lDE"
      },
      "execution_count": null,
      "outputs": []
    },
    {
      "cell_type": "code",
      "source": [
        "song = songs[0]\n",
        "song"
      ],
      "metadata": {
        "colab": {
          "base_uri": "https://localhost:8080/"
        },
        "id": "rjmewa9f9ugy",
        "outputId": "28983551-4b53-4850-a6c4-cff3ca99f8cd"
      },
      "execution_count": null,
      "outputs": [
        {
          "output_type": "execute_result",
          "data": {
            "text/plain": [
              "<tr albumid=\"4069567\" artistid=\"80049126\" multiartist=\"N\" mvid=\"0\" rowtype=\"track\" trackid=\"6141496\">\n",
              "<input name=\"_isStream\" type=\"hidden\" value=\"6141496\">\n",
              "<input name=\"_isDown\" type=\"hidden\" value=\"6141496\">\n",
              "<td class=\"check\"><input buyminquality=\"T\" disc_id=\"1\" name=\"check\" title=\"드라마\" type=\"checkbox\" value=\"6141496\"/></td>\n",
              "<td>\n",
              "<div class=\"ranking\">\n",
              "<strong>1</strong>\n",
              "<p class=\"change none\"><em>0</em><span>변동없음</span></p>\n",
              "</div>\n",
              "</td>\n",
              "<td>\n",
              "<a class=\"thumbnail\" href=\"https://music.bugs.co.kr/album/4069567?wl_ref=list_tr_07_chart\" onclick=\"\n",
              "\">\n",
              "<span class=\"mask\"></span>\n",
              "<img alt=\"조각집 대표이미지\" onerror=\"bugs.utils.imgError(this);\" src=\"https://image.bugsm.co.kr/album/images/50/40695/4069567.jpg?version=20220104003927.0\"/>\n",
              "</a>\n",
              "</td>\n",
              "<td>\n",
              "<a class=\"trackInfo\" href=\"https://music.bugs.co.kr/track/6141496?wl_ref=list_tr_08_chart\" onclick=\"\n",
              "\">곡정보</a>\n",
              "</td>\n",
              "<th scope=\"row\">\n",
              "<p adult_yn=\"N\" class=\"title\">\n",
              "<a adultcheckval=\"1\" aria-label=\"새창\" href=\"javascript:;\" onclick=\"bugs.wiselog.area('list_tr_09_chart');bugs.music.listen('6141496',true);\n",
              "\" title=\"드라마\">드라마</a>\n",
              "</p>\n",
              "</th>\n",
              "<td class=\"left\">\n",
              "<p class=\"artist\">\n",
              "<a href=\"https://music.bugs.co.kr/artist/80049126?wl_ref=list_tr_10_chart\" onclick=\"\n",
              "\" title=\"아이유(IU)\">아이유(IU)</a>\n",
              "</p>\n",
              "</td>\n",
              "<td class=\"left\">\n",
              "<a class=\"album\" href=\"https://music.bugs.co.kr/album/4069567?wl_ref=list_tr_11_chart\" onclick=\"\n",
              "\" title=\"조각집\">조각집</a>\n",
              "</td>\n",
              "<td>\n",
              "<a adultcheckval=\"1\" aria-label=\"새창\" class=\"btn play\" href=\"javascript:;\" onclick=\"bugs.wiselog.area('list_tr_12_chart');bugs.music.listen('6141496',true);\n",
              "\">듣기</a>\n",
              "</td>\n",
              "<td>\n",
              "<a adultcheckval=\"1\" aria-label=\"새창\" class=\"btn addPlaylist\" href=\"javascript:;\" onclick=\"bugs.wiselog.area('list_tr_13_chart');bugs.music.listen('6141496');\n",
              "\">재생목록에 추가</a>\n",
              "</td>\n",
              "<td>\n",
              "<a class=\"btn addAlbum\" href=\"javascript:;\" onclick=\"bugs.wiselog.area('list_tr_14_chart');bugs.music.addTrackToMyAlbum(this,'6141496');\n",
              "\" track_title=\"드라마\">내 앨범에 담기</a>\n",
              "</td>\n",
              "<td>\n",
              "<a adultcheckval=\"1\" aria-label=\"새창\" class=\"btn download flac\" href=\"javascript:;\" onclick=\"bugs.wiselog.area('list_tr_15_chart');bugs.layermenu.down(this,'6141496','true','true','44.1','true','48', null );\n",
              "\"><em class=\"flac\">flac </em>다운로드</a>\n",
              "</td>\n",
              "<td>\n",
              "<span class=\"btn viewMV\">영상 재생 불가</span>\n",
              "</td>\n",
              "<td>\n",
              "<a artist_disp_nm=\"아이유(IU)\" artist_id=\"80049126\" class=\"btnActions\" href=\"javascript:;\" layer_type=\"CHART\" layerpositiontarget=\"td\" onclick=\"bugs.wiselog.area('list_tr_17_chart');\n",
              "bugs.layermenu.trackMoreAction(this,'6141496','0','4069567','bugs.music.listenRadioFromSeed(\\'6141496\\',\\'track\\');','N', 'Y', '_chart');\n",
              "\" track_title=\"드라마\">기타 기능</a>\n",
              "</td>\n",
              "</input></input></tr>"
            ]
          },
          "metadata": {},
          "execution_count": 19
        }
      ]
    },
    {
      "cell_type": "code",
      "source": [
        "singer = song.select('p.artist > a')\n",
        "singer"
      ],
      "metadata": {
        "colab": {
          "base_uri": "https://localhost:8080/"
        },
        "id": "K4pt4XPx_Cdp",
        "outputId": "8a58b6da-36e7-438d-fa0b-44abb579d2e1"
      },
      "execution_count": null,
      "outputs": [
        {
          "output_type": "execute_result",
          "data": {
            "text/plain": [
              "[<a href=\"https://music.bugs.co.kr/artist/80049126?wl_ref=list_tr_10_chart\" onclick=\"\n",
              " \" title=\"아이유(IU)\">아이유(IU)</a>]"
            ]
          },
          "metadata": {},
          "execution_count": 24
        }
      ]
    },
    {
      "cell_type": "code",
      "source": [
        "singer = song.select('p.artist > a')[0].text\n",
        "singer"
      ],
      "metadata": {
        "colab": {
          "base_uri": "https://localhost:8080/",
          "height": 35
        },
        "id": "6vJRpT4BADok",
        "outputId": "b85dba8e-9974-4410-b5c3-8af7893ab221"
      },
      "execution_count": null,
      "outputs": [
        {
          "output_type": "execute_result",
          "data": {
            "application/vnd.google.colaboratory.intrinsic+json": {
              "type": "string"
            },
            "text/plain": [
              "'아이유(IU)'"
            ]
          },
          "metadata": {},
          "execution_count": 25
        }
      ]
    },
    {
      "cell_type": "code",
      "source": [
        "title = song.select('p.title > a')[0].text\n",
        "title"
      ],
      "metadata": {
        "colab": {
          "base_uri": "https://localhost:8080/",
          "height": 35
        },
        "id": "j30wBAQmAS2z",
        "outputId": "78299962-2fa9-4ff5-af9c-093e098d64e2"
      },
      "execution_count": null,
      "outputs": [
        {
          "output_type": "execute_result",
          "data": {
            "application/vnd.google.colaboratory.intrinsic+json": {
              "type": "string"
            },
            "text/plain": [
              "'드라마'"
            ]
          },
          "metadata": {},
          "execution_count": 27
        }
      ]
    },
    {
      "cell_type": "code",
      "source": [
        "song_data = []\n",
        "rank = 1\n",
        "\n",
        "songs = soup.select('table.byChart > tbody > tr')\n",
        "\n",
        "for song in songs:\n",
        "\n",
        "  title = song.select('p.title > a')[0].text\n",
        "  singer = song.select('p.artist > a')[0].text\n",
        "  song_data.append([rank, title, singer])\n",
        "  rank += 1  # rank = rank + 1   \n",
        "\n",
        "song_data\n"
      ],
      "metadata": {
        "colab": {
          "base_uri": "https://localhost:8080/"
        },
        "id": "HVHe7WcnAml6",
        "outputId": "26e5477d-79a0-4538-ec41-85e56ce48276"
      },
      "execution_count": null,
      "outputs": [
        {
          "output_type": "execute_result",
          "data": {
            "text/plain": [
              "[[1, '드라마', '아이유(IU)'],\n",
              " [2, '서랍', '10CM'],\n",
              " [3, 'Blessed-Cursed', 'ENHYPEN'],\n",
              " [4, 'Step Back', 'GOT the beat'],\n",
              " [5, 'ELEVEN', 'IVE (아이브)'],\n",
              " [6, '여름비', '샘김(Sam Kim)'],\n",
              " [7, '우리가 헤어져야 했던 이유', '비비(BIBI)'],\n",
              " [8, 'Dreams Come True', 'aespa'],\n",
              " [9, '겨울잠', '아이유(IU)'],\n",
              " [10, 'Christmas Tree', 'V'],\n",
              " [11, 'Polaroid Love', 'ENHYPEN'],\n",
              " [12, '언덕나무', '이승윤'],\n",
              " [13, '취중고백', '김민석 (멜로망스)'],\n",
              " [14, 'Devil', '최강창민 (MAX CHANGMIN)'],\n",
              " [15, '평생', '린(LYn)'],\n",
              " [16, 'Tamed-Dashed', 'ENHYPEN'],\n",
              " [17, '회전목마 (Feat. Zion.T, 원슈타인) (Prod. Slom)', 'sokodomo'],\n",
              " [18, '사랑은 늘 도망가', '임영웅'],\n",
              " [19, \"Layin' Low (feat. Jooyoung)\", '효린'],\n",
              " [20, '이별후회', '김나영'],\n",
              " [21, '리무진 (Feat. MINO) (Prod. GRAY)', \"BE'O (비오)\"],\n",
              " [22, '정거장', '아이유(IU)'],\n",
              " [23, '러브레터', '아이유(IU)'],\n",
              " [24, '눈이 오잖아(Feat.헤이즈)', '이무진'],\n",
              " [25, 'strawberry moon', '아이유(IU)'],\n",
              " [26, 'Counting Stars (Feat. Beenzino)', \"BE'O (비오)\"],\n",
              " [27, '너무 아픈 사랑은 사랑이 아니었음을', '싱어게인2 33호 가수'],\n",
              " [28, 'Next Level', 'aespa'],\n",
              " [29, '아직도 좋아해', '양요섭'],\n",
              " [30, 'Savage', 'aespa'],\n",
              " [31, '너', '아이유(IU)'],\n",
              " [32, 'My Universe', 'Coldplay(콜드플레이)'],\n",
              " [33, '그대 손 놓아요', '이선희'],\n",
              " [34, '다정히 내 이름을 부르면', '경서예지'],\n",
              " [35, '신호등', '이무진'],\n",
              " [36, 'SCIENTIST', 'TWICE (트와이스)'],\n",
              " [37, 'STAY', 'The Kid LAROI'],\n",
              " [38, '만남은 쉽고 이별은 어려워 (Feat. Leellamarz) (Prod. TOIL)', '베이식(Basick)'],\n",
              " [39, 'Still I Love You', '토요태'],\n",
              " [40, '사랑이 아니었다고 말하지 마요', '이예준'],\n",
              " [41, '문득', \"BE'O (비오)\"],\n",
              " [42, '흰눈', '먼데이 키즈(Monday Kiz)'],\n",
              " [43, '집 (Prod. by 남혜승)', 'Janet Suhh (자넷서)'],\n",
              " [44, 'Butter', '방탄소년단'],\n",
              " [45, 'Permission to Dance', '방탄소년단'],\n",
              " [46, '다시 겨울이야', '박정현'],\n",
              " [47, 'Out of Time', 'The Weeknd(위켄드)'],\n",
              " [48, 'Why (Prod. by 남혜승)', 'Janet Suhh (자넷서)'],\n",
              " [49, 'Celebrity', '아이유(IU)'],\n",
              " [50, 'Outro : Day 2', 'ENHYPEN'],\n",
              " [51, 'Maniac', '최강창민 (MAX CHANGMIN)'],\n",
              " [52, '어제 너는 나를 버렸어', '10CM'],\n",
              " [53, '낙하 (with 아이유)', 'AKMU(악뮤)'],\n",
              " [54, '매일 크리스마스 (Everyday Christmas)', '다비치'],\n",
              " [55, 'Fever', '최강창민 (MAX CHANGMIN)'],\n",
              " [56, 'Alien', '최강창민 (MAX CHANGMIN)'],\n",
              " [57, 'Dynamite', '방탄소년단'],\n",
              " [58, '불협화음 (Feat. AKMU) (Prod. GRAY)', 'Mudd the student'],\n",
              " [59, 'Shark', '오마이걸(OH MY GIRL)'],\n",
              " [60, 'Dirty Dancing', '최강창민 (MAX CHANGMIN)'],\n",
              " [61, 'Peaches (feat. Daniel Caesar, Giveon)', 'Justin Bieber(저스틴 비버)'],\n",
              " [62, 'Weekend', '태연 (TAEYEON)'],\n",
              " [63, 'Bad Habits', 'Ed Sheeran(에드 시런)'],\n",
              " [64, 'Off My Face', 'Justin Bieber(저스틴 비버)'],\n",
              " [65, '라일락', '아이유(IU)'],\n",
              " [66, '추억의 책장을 넘기면', '싱어게인2 64호 가수'],\n",
              " [67, '그게 더 편할 것 같아 (N번째 연애 X 멜로망스)', '멜로망스(MeloMance)'],\n",
              " [68, '너를 생각해', '주시크 (Joosiq)'],\n",
              " [69, '네가 없는 밤 (Feat. ASH ISLAND) (Prod. GRAY)', \"BE'O (비오)\"],\n",
              " [70, 'idea', 'KHUNDI PANDA'],\n",
              " [71, '낮 밤 (feat. 박재범)', '이영지'],\n",
              " [72, '너의 모든 순간', '성시경'],\n",
              " [73, '밤새 서로 미루다', '존 박'],\n",
              " [74, 'Shivers', 'Ed Sheeran(에드 시런)'],\n",
              " [75, '쉬어 (Feat. MINO) (Prod. GRAY)', 'MINO(송민호)'],\n",
              " [76, '긴 밤', '유키카'],\n",
              " [77, 'Queendom', 'Red Velvet (레드벨벳)'],\n",
              " [78, '어떻게 이별까지 사랑하겠어, 널 사랑하는 거지', 'AKMU(악뮤)'],\n",
              " [79, 'OHAYO MY NIGHT', '디핵(D-Hack)'],\n",
              " [80, 'Blueming', '아이유(IU)'],\n",
              " [81, '너는 내 세상이었어', '볼빨간사춘기'],\n",
              " [82, 'abcdefu', 'Gayle'],\n",
              " [83, '바라만 본다', 'MSG워너비(M.O.M)'],\n",
              " [84, 'Black Mamba', 'aespa'],\n",
              " [85, '묘해, 너와', '어쿠스틱 콜라보(Acoustic Collabo)'],\n",
              " [86, 'Sacrifice', 'The Weeknd(위켄드)'],\n",
              " [87, '고백', '멜로망스(MeloMance)'],\n",
              " [88, '모든 날, 모든 순간 (Every day, Every Moment)', '폴킴(Paul Kim)'],\n",
              " [89,\n",
              "  'Hey Mama (feat. Nicki Minaj, Bebe Rexha & Afrojack)',\n",
              "  'David Guetta(데이빗 게타)'],\n",
              " [90, '헤픈 우연', '헤이즈(Heize)'],\n",
              " [91, '박하사탕', '호형호제(싱어게인2 30호 가수, 싱어게인2 33호 가수)'],\n",
              " [92, 'Snowman', 'Sia(시아)'],\n",
              " [93, '티격태격', '하성운'],\n",
              " [94, 'Wake Up (Prod. 코드 쿤스트)', '개코'],\n",
              " [95, 'Tiny Riot', 'Sam Ryder'],\n",
              " [96, '죽을 만큼 아파서 (Feat. JAMIE (제이미))', 'MC몽'],\n",
              " [97, 'Rock with you', '세븐틴(SEVENTEEN)'],\n",
              " [98, '나 그댈위해 시 한편을 쓰겠어', '케이시'],\n",
              " [99, '안녕 (Hello)', '조이 (JOY)'],\n",
              " [100, '상상더하기', '라붐(LABOUM)']]"
            ]
          },
          "metadata": {},
          "execution_count": 28
        }
      ]
    },
    {
      "cell_type": "code",
      "source": [
        "import pandas as pd\n",
        "df = pd.DataFrame(song_data, columns = ['순위','타이틀','가수'])\n",
        "df"
      ],
      "metadata": {
        "colab": {
          "base_uri": "https://localhost:8080/",
          "height": 423
        },
        "id": "1AIyGhfwCFRp",
        "outputId": "fd1658bb-28e0-4689-e39c-703ddfccbd35"
      },
      "execution_count": null,
      "outputs": [
        {
          "output_type": "execute_result",
          "data": {
            "text/html": [
              "\n",
              "  <div id=\"df-acd92fb4-c62f-4b83-bf45-321c58928511\">\n",
              "    <div class=\"colab-df-container\">\n",
              "      <div>\n",
              "<style scoped>\n",
              "    .dataframe tbody tr th:only-of-type {\n",
              "        vertical-align: middle;\n",
              "    }\n",
              "\n",
              "    .dataframe tbody tr th {\n",
              "        vertical-align: top;\n",
              "    }\n",
              "\n",
              "    .dataframe thead th {\n",
              "        text-align: right;\n",
              "    }\n",
              "</style>\n",
              "<table border=\"1\" class=\"dataframe\">\n",
              "  <thead>\n",
              "    <tr style=\"text-align: right;\">\n",
              "      <th></th>\n",
              "      <th>순위</th>\n",
              "      <th>타이틀</th>\n",
              "      <th>가수</th>\n",
              "    </tr>\n",
              "  </thead>\n",
              "  <tbody>\n",
              "    <tr>\n",
              "      <th>0</th>\n",
              "      <td>1</td>\n",
              "      <td>드라마</td>\n",
              "      <td>아이유(IU)</td>\n",
              "    </tr>\n",
              "    <tr>\n",
              "      <th>1</th>\n",
              "      <td>2</td>\n",
              "      <td>서랍</td>\n",
              "      <td>10CM</td>\n",
              "    </tr>\n",
              "    <tr>\n",
              "      <th>2</th>\n",
              "      <td>3</td>\n",
              "      <td>Blessed-Cursed</td>\n",
              "      <td>ENHYPEN</td>\n",
              "    </tr>\n",
              "    <tr>\n",
              "      <th>3</th>\n",
              "      <td>4</td>\n",
              "      <td>Step Back</td>\n",
              "      <td>GOT the beat</td>\n",
              "    </tr>\n",
              "    <tr>\n",
              "      <th>4</th>\n",
              "      <td>5</td>\n",
              "      <td>ELEVEN</td>\n",
              "      <td>IVE (아이브)</td>\n",
              "    </tr>\n",
              "    <tr>\n",
              "      <th>...</th>\n",
              "      <td>...</td>\n",
              "      <td>...</td>\n",
              "      <td>...</td>\n",
              "    </tr>\n",
              "    <tr>\n",
              "      <th>95</th>\n",
              "      <td>96</td>\n",
              "      <td>죽을 만큼 아파서 (Feat. JAMIE (제이미))</td>\n",
              "      <td>MC몽</td>\n",
              "    </tr>\n",
              "    <tr>\n",
              "      <th>96</th>\n",
              "      <td>97</td>\n",
              "      <td>Rock with you</td>\n",
              "      <td>세븐틴(SEVENTEEN)</td>\n",
              "    </tr>\n",
              "    <tr>\n",
              "      <th>97</th>\n",
              "      <td>98</td>\n",
              "      <td>나 그댈위해 시 한편을 쓰겠어</td>\n",
              "      <td>케이시</td>\n",
              "    </tr>\n",
              "    <tr>\n",
              "      <th>98</th>\n",
              "      <td>99</td>\n",
              "      <td>안녕 (Hello)</td>\n",
              "      <td>조이 (JOY)</td>\n",
              "    </tr>\n",
              "    <tr>\n",
              "      <th>99</th>\n",
              "      <td>100</td>\n",
              "      <td>상상더하기</td>\n",
              "      <td>라붐(LABOUM)</td>\n",
              "    </tr>\n",
              "  </tbody>\n",
              "</table>\n",
              "<p>100 rows × 3 columns</p>\n",
              "</div>\n",
              "      <button class=\"colab-df-convert\" onclick=\"convertToInteractive('df-acd92fb4-c62f-4b83-bf45-321c58928511')\"\n",
              "              title=\"Convert this dataframe to an interactive table.\"\n",
              "              style=\"display:none;\">\n",
              "        \n",
              "  <svg xmlns=\"http://www.w3.org/2000/svg\" height=\"24px\"viewBox=\"0 0 24 24\"\n",
              "       width=\"24px\">\n",
              "    <path d=\"M0 0h24v24H0V0z\" fill=\"none\"/>\n",
              "    <path d=\"M18.56 5.44l.94 2.06.94-2.06 2.06-.94-2.06-.94-.94-2.06-.94 2.06-2.06.94zm-11 1L8.5 8.5l.94-2.06 2.06-.94-2.06-.94L8.5 2.5l-.94 2.06-2.06.94zm10 10l.94 2.06.94-2.06 2.06-.94-2.06-.94-.94-2.06-.94 2.06-2.06.94z\"/><path d=\"M17.41 7.96l-1.37-1.37c-.4-.4-.92-.59-1.43-.59-.52 0-1.04.2-1.43.59L10.3 9.45l-7.72 7.72c-.78.78-.78 2.05 0 2.83L4 21.41c.39.39.9.59 1.41.59.51 0 1.02-.2 1.41-.59l7.78-7.78 2.81-2.81c.8-.78.8-2.07 0-2.86zM5.41 20L4 18.59l7.72-7.72 1.47 1.35L5.41 20z\"/>\n",
              "  </svg>\n",
              "      </button>\n",
              "      \n",
              "  <style>\n",
              "    .colab-df-container {\n",
              "      display:flex;\n",
              "      flex-wrap:wrap;\n",
              "      gap: 12px;\n",
              "    }\n",
              "\n",
              "    .colab-df-convert {\n",
              "      background-color: #E8F0FE;\n",
              "      border: none;\n",
              "      border-radius: 50%;\n",
              "      cursor: pointer;\n",
              "      display: none;\n",
              "      fill: #1967D2;\n",
              "      height: 32px;\n",
              "      padding: 0 0 0 0;\n",
              "      width: 32px;\n",
              "    }\n",
              "\n",
              "    .colab-df-convert:hover {\n",
              "      background-color: #E2EBFA;\n",
              "      box-shadow: 0px 1px 2px rgba(60, 64, 67, 0.3), 0px 1px 3px 1px rgba(60, 64, 67, 0.15);\n",
              "      fill: #174EA6;\n",
              "    }\n",
              "\n",
              "    [theme=dark] .colab-df-convert {\n",
              "      background-color: #3B4455;\n",
              "      fill: #D2E3FC;\n",
              "    }\n",
              "\n",
              "    [theme=dark] .colab-df-convert:hover {\n",
              "      background-color: #434B5C;\n",
              "      box-shadow: 0px 1px 3px 1px rgba(0, 0, 0, 0.15);\n",
              "      filter: drop-shadow(0px 1px 2px rgba(0, 0, 0, 0.3));\n",
              "      fill: #FFFFFF;\n",
              "    }\n",
              "  </style>\n",
              "\n",
              "      <script>\n",
              "        const buttonEl =\n",
              "          document.querySelector('#df-acd92fb4-c62f-4b83-bf45-321c58928511 button.colab-df-convert');\n",
              "        buttonEl.style.display =\n",
              "          google.colab.kernel.accessAllowed ? 'block' : 'none';\n",
              "\n",
              "        async function convertToInteractive(key) {\n",
              "          const element = document.querySelector('#df-acd92fb4-c62f-4b83-bf45-321c58928511');\n",
              "          const dataTable =\n",
              "            await google.colab.kernel.invokeFunction('convertToInteractive',\n",
              "                                                     [key], {});\n",
              "          if (!dataTable) return;\n",
              "\n",
              "          const docLinkHtml = 'Like what you see? Visit the ' +\n",
              "            '<a target=\"_blank\" href=https://colab.research.google.com/notebooks/data_table.ipynb>data table notebook</a>'\n",
              "            + ' to learn more about interactive tables.';\n",
              "          element.innerHTML = '';\n",
              "          dataTable['output_type'] = 'display_data';\n",
              "          await google.colab.output.renderOutput(dataTable, element);\n",
              "          const docLink = document.createElement('div');\n",
              "          docLink.innerHTML = docLinkHtml;\n",
              "          element.appendChild(docLink);\n",
              "        }\n",
              "      </script>\n",
              "    </div>\n",
              "  </div>\n",
              "  "
            ],
            "text/plain": [
              "     순위                            타이틀              가수\n",
              "0     1                            드라마         아이유(IU)\n",
              "1     2                             서랍            10CM\n",
              "2     3                 Blessed-Cursed         ENHYPEN\n",
              "3     4                      Step Back    GOT the beat\n",
              "4     5                         ELEVEN       IVE (아이브)\n",
              "..  ...                            ...             ...\n",
              "95   96  죽을 만큼 아파서 (Feat. JAMIE (제이미))             MC몽\n",
              "96   97                  Rock with you  세븐틴(SEVENTEEN)\n",
              "97   98               나 그댈위해 시 한편을 쓰겠어             케이시\n",
              "98   99                     안녕 (Hello)        조이 (JOY)\n",
              "99  100                          상상더하기      라붐(LABOUM)\n",
              "\n",
              "[100 rows x 3 columns]"
            ]
          },
          "metadata": {},
          "execution_count": 31
        }
      ]
    },
    {
      "cell_type": "code",
      "source": [
        "df.to_excel('bugs.xlsx', index=False)"
      ],
      "metadata": {
        "id": "JfENbKEzCnya"
      },
      "execution_count": null,
      "outputs": []
    }
  ]
}